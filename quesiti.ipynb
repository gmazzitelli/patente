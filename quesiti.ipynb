{
 "cells": [
  {
   "cell_type": "code",
   "execution_count": 10,
   "id": "e0bd71d4-8f43-4669-8472-8eb5f7e95706",
   "metadata": {
    "collapsed": true,
    "jupyter": {
     "outputs_hidden": true
    },
    "tags": []
   },
   "outputs": [
    {
     "name": "stdout",
     "output_type": "stream",
     "text": [
      "Requirement already satisfied: gspread in /usr/local/lib/python3.6/site-packages (5.9.0)\n",
      "Requirement already satisfied: oauth2client in /usr/local/lib/python3.6/site-packages (4.1.3)\n",
      "Requirement already satisfied: google-auth-oauthlib>=0.4.1 in /usr/local/lib/python3.6/site-packages (from gspread) (0.4.6)\n",
      "Requirement already satisfied: google-auth>=1.12.0 in /usr/local/lib/python3.6/site-packages (from gspread) (1.35.0)\n",
      "Requirement already satisfied: pyasn1>=0.1.7 in /usr/local/lib/python3.6/site-packages (from oauth2client) (0.5.1)\n",
      "Requirement already satisfied: rsa>=3.1.4 in /usr/local/lib/python3.6/site-packages (from oauth2client) (4.9)\n",
      "Requirement already satisfied: six>=1.6.1 in /usr/local/lib/python3.6/site-packages (from oauth2client) (1.15.0)\n",
      "Requirement already satisfied: httplib2>=0.9.1 in /usr/local/lib/python3.6/site-packages (from oauth2client) (0.22.0)\n",
      "Requirement already satisfied: pyasn1-modules>=0.0.5 in /usr/local/lib/python3.6/site-packages (from oauth2client) (0.3.0)\n",
      "Requirement already satisfied: setuptools>=40.3.0 in /usr/local/lib/python3.6/site-packages (from google-auth>=1.12.0->gspread) (59.6.0)\n",
      "Requirement already satisfied: cachetools<5.0,>=2.0.0 in /usr/local/lib/python3.6/site-packages (from google-auth>=1.12.0->gspread) (4.2.4)\n",
      "Requirement already satisfied: requests-oauthlib>=0.7.0 in /usr/local/lib/python3.6/site-packages (from google-auth-oauthlib>=0.4.1->gspread) (2.0.0)\n",
      "Requirement already satisfied: pyparsing!=3.0.0,!=3.0.1,!=3.0.2,!=3.0.3,<4,>=2.4.2 in /usr/local/lib/python3.6/site-packages (from httplib2>=0.9.1->oauth2client) (3.0.9)\n",
      "Requirement already satisfied: oauthlib>=3.0.0 in /usr/local/lib/python3.6/site-packages (from requests-oauthlib>=0.7.0->google-auth-oauthlib>=0.4.1->gspread) (3.2.2)\n",
      "Requirement already satisfied: requests>=2.0.0 in /usr/local/lib/python3.6/site-packages (from requests-oauthlib>=0.7.0->google-auth-oauthlib>=0.4.1->gspread) (2.27.1)\n",
      "Requirement already satisfied: certifi>=2017.4.17 in /usr/local/lib/python3.6/site-packages (from requests>=2.0.0->requests-oauthlib>=0.7.0->google-auth-oauthlib>=0.4.1->gspread) (2022.12.7)\n",
      "Requirement already satisfied: urllib3<1.27,>=1.21.1 in /usr/local/lib/python3.6/site-packages (from requests>=2.0.0->requests-oauthlib>=0.7.0->google-auth-oauthlib>=0.4.1->gspread) (1.26.15)\n",
      "Requirement already satisfied: charset-normalizer~=2.0.0 in /usr/local/lib/python3.6/site-packages (from requests>=2.0.0->requests-oauthlib>=0.7.0->google-auth-oauthlib>=0.4.1->gspread) (2.0.12)\n",
      "Requirement already satisfied: idna<4,>=2.5 in /usr/local/lib/python3.6/site-packages (from requests>=2.0.0->requests-oauthlib>=0.7.0->google-auth-oauthlib>=0.4.1->gspread) (3.3)\n",
      "\u001b[33mWARNING: Running pip as the 'root' user can result in broken permissions and conflicting behaviour with the system package manager. It is recommended to use a virtual environment instead: https://pip.pypa.io/warnings/venv\u001b[0m\n"
     ]
    }
   ],
   "source": [
    "!pip install gspread oauth2client"
   ]
  },
  {
   "cell_type": "code",
   "execution_count": 57,
   "id": "c7f1c2c0-b97f-407e-88c4-7d09d6815647",
   "metadata": {},
   "outputs": [],
   "source": [
    "import pandas as pd\n",
    "import numpy as np\n",
    "import matplotlib.pyplot as plt\n",
    "import json\n",
    "import time\n",
    "import gspread\n",
    "from google.oauth2 import service_account\n",
    "import json\n",
    "\n",
    "credentials = service_account.Credentials.from_service_account_file('.google_credentials.json')\n",
    "scope = ['https://spreadsheets.google.com/feeds']\n",
    "creds_scope = credentials.with_scopes(scope)\n",
    "client = gspread.authorize(creds_scope)\n",
    "key = '1SUHVbmaA8sUDcHGr0fjH7p_3QNj7F5tWXBtukodj3aw'\n",
    "def panda_from_gspreadsheet(key, sheet_name='Sheet1', header=0):\n",
    "    url = 'https://docs.google.com/spreadsheets/d/{key}/gviz/tq?tqx=out:csv&sheet={sheet_name}&headers=1'.format(\n",
    "      key=key, sheet_name=sheet_name.replace(' ', '%20'))\n",
    "    return pd.read_csv(url, header=header)\n",
    "def risultati(key):\n",
    "    dr = panda_from_gspreadsheet(key, sheet_name='DB')\n",
    "    return dr\n",
    "\n",
    "d5 =  panda_from_gspreadsheet(key, sheet_name='5D')\n",
    "d42 =  panda_from_gspreadsheet(key, sheet_name='42D')\n",
    "dr = risultati(key)\n",
    "df = pd.concat([d5, d42],ignore_index=True)\n",
    "out_data = client.open_by_key(key).worksheet(\"DB\")"
   ]
  },
  {
   "cell_type": "code",
   "execution_count": 56,
   "id": "cc156b54-92f5-49bc-a125-c17a7a53b7b9",
   "metadata": {},
   "outputs": [
    {
     "name": "stdout",
     "output_type": "stream",
     "text": [
      "corretti: 251 sbagliati 69\n",
      "\n",
      "Id esercizio: 68 svolto: 3 --------------------------------------\n",
      "\n",
      "Carta 5D\n",
      "5.3.4 - 2 Stiamo navigando a Sud Sud Est dell’Isola di Pianosa con rotta vera Rv = 072°.\n",
      "Alle ore 10h00m rileviamo a sinistra, la Torre di Cala della Ruta con\n",
      "rilevamento polare ρ = -119° e contemporaneamente l’Isola La Scola con rilevamento polare ρ = - 077°.\n",
      "Determinare le coordinate del punto nave B delle ore 10h00m considerando che in zona è presente un vento di tramontana che crea uno scarroccio di 2°.\n"
     ]
    },
    {
     "name": "stdin",
     "output_type": "stream",
     "text": [
      "\n",
      "Press Enter per la risposta... (salta per saltare) \n"
     ]
    },
    {
     "name": "stdout",
     "output_type": "stream",
     "text": [
      "5.3.4 - 2 Lat. 42° 31’,9 N ÷\n",
      "42°32’,3 N   Long. 010°\n",
      "06’,7 E ÷ 010°07’,1 E\n"
     ]
    },
    {
     "name": "stdin",
     "output_type": "stream",
     "text": [
      "coretto? 'SI' or 'NO':  si\n"
     ]
    },
    {
     "name": "stdout",
     "output_type": "stream",
     "text": [
      "Bravo!\n",
      "precedenti risultati:  [0 1 1]\n",
      "elapsed: 0.0 minuti\n"
     ]
    },
    {
     "name": "stdin",
     "output_type": "stream",
     "text": [
      "\n",
      "Press Enter per la nuova domanda... \n"
     ]
    },
    {
     "name": "stdout",
     "output_type": "stream",
     "text": [
      "\n",
      "\n",
      "corretti: 252 sbagliati 69\n",
      "\n",
      "Id esercizio: 106 svolto: 2 --------------------------------------\n",
      "\n",
      "Carta 5D\n",
      "5.4.4 - 3 Ci troviamo alle ore 15h30m sul punto A di coordinate geografiche GPS Lat 42°21’,1 N e Long. 011° 13’,5 E e vogliamo raggiungere il porto dell’isola del Giglio (fanali di ingresso in porto).\n",
      "In zona insiste un vento di Libeccio che provoca uno scarroccio a dritta di 7° e\n",
      "una variazione di velocità di – 1 kn.\n",
      "Determinare la velocità propria Vp da impostare per raggiungere il porto turistico alle ore 17h45m.\n"
     ]
    },
    {
     "name": "stdin",
     "output_type": "stream",
     "text": [
      "\n",
      "Press Enter per la risposta... (salta per saltare) \n"
     ]
    },
    {
     "name": "stdout",
     "output_type": "stream",
     "text": [
      "5.4.4 - 3 Vp = 6,5 ÷7,5 kn\n"
     ]
    },
    {
     "name": "stdin",
     "output_type": "stream",
     "text": [
      "coretto? 'SI' or 'NO':  no\n"
     ]
    },
    {
     "name": "stdout",
     "output_type": "stream",
     "text": [
      "Pippa!\n",
      "precedenti risultati:  [0 1]\n",
      "elapsed: 0.1 minuti\n"
     ]
    },
    {
     "name": "stdin",
     "output_type": "stream",
     "text": [
      "\n",
      "Press Enter per la nuova domanda... \n"
     ]
    },
    {
     "name": "stdout",
     "output_type": "stream",
     "text": [
      "corretti: 0 sbagliati 0\n",
      "\n",
      "Id esercizio: 13 svolto: 0 --------------------------------------\n",
      "\n",
      "Carta 5D\n",
      "5.1.3 - 2 Stiamo navigando a Nord dell’Isola d’Elba con una prora bussola Pb = 086° (declinazione d =2°W, deviazione δ = – 2°) con velocità propulsiva Vp = 5 kn. Alle ore 17h00m rileviamo il faro di Scoglietto per rilevamento bussola Rilb = 164° e dopo 18 minuti di navigazione per il rilevamento bussola Rilb = 194°. Determinare le coordinate del punto nave delle ore 17h18m.\n"
     ]
    },
    {
     "name": "stdin",
     "output_type": "stream",
     "text": [
      "\n",
      "Press Enter per la risposta... (salta per saltare) \n"
     ]
    },
    {
     "name": "stdout",
     "output_type": "stream",
     "text": [
      "5.1.3 - 2 Lat. 42°52’,2 N ÷ 42°52’,8 N   Long\n",
      "010°20’,3 E ÷ 010° 20’,9\n",
      "E\n"
     ]
    },
    {
     "name": "stdin",
     "output_type": "stream",
     "text": [
      "coretto? 'SI' or 'NO':  si\n"
     ]
    },
    {
     "name": "stdout",
     "output_type": "stream",
     "text": [
      "Bravo!\n",
      "precedenti risultati:  []\n",
      "elapsed: 0.1 minuti\n"
     ]
    }
   ],
   "source": [
    "data_to_save = {}\n",
    "end = time.time()\n",
    "dt = 0\n",
    "try:\n",
    "    while True:\n",
    "        dr = risultati(key)\n",
    "        while True:\n",
    "            rnd = round(np.random.uniform()*(len(df)-1))\n",
    "            ntry = len(dr[dr.rnd.values == rnd])\n",
    "            nfail = len(dr[(dr.risp.values == 0) & (dr.rnd.values == rnd)])\n",
    "            if ntry>0 and nfail==0:\n",
    "                print()\n",
    "                # print('new extaction', rnd, ntry, nfail, ntry-nfail)\n",
    "            else:\n",
    "                start = time.time()\n",
    "                break\n",
    "        print('corretti:', len((dr[dr.risp==1])),'sbagliati',  len((dr[dr.risp==0])))\n",
    "        id = df.loc[:, ['PROGRESSIVO DOMANDA']].iloc[[rnd]].values[0][0]\n",
    "        domanda = df.loc[:, ['TESTO DELLA DOMANDA']].iloc[[rnd]].values[0][0]\n",
    "        print(\"\\nId esercizio: \"+str(rnd+1)+\" svolto: \"+str(len(dr[dr.rnd==rnd].risp.values))+\" --------------------------------------\\n\")\n",
    "\n",
    "        if rnd<108:\n",
    "            print('Carta 5D')\n",
    "        else:\n",
    "            print('Carta 42D')\n",
    "        print(id, domanda)\n",
    "        \n",
    "        user_input = input(\"\\nPress Enter per la risposta... (salta per saltare)\").lower()\n",
    "        if user_input != 'salta':\n",
    "            risposta = df.loc[:, ['RISPOSTA 1']].iloc[[rnd]].values[0][0]\n",
    "            print(id, risposta)\n",
    "\n",
    "            data_to_save['rnd']=rnd\n",
    "            data_to_save['time']=int(time.time())\n",
    "            end = time.time()\n",
    "            dt = (end-start)/60\n",
    "            \n",
    "            while True:\n",
    "                user_input = input(\"coretto? 'SI' or 'NO': \").lower()\n",
    "                if user_input == 'si' or user_input == 's':\n",
    "                    print(\"Bravo!\")\n",
    "                    data_to_save['risp']=1\n",
    "                    data_to_save['dt']=dt\n",
    "                    body = list(data_to_save.values())\n",
    "                    try:\n",
    "                        out_data.append_row(body, table_range=\"A1:D1\")\n",
    "                    except Exception as e:\n",
    "                        print('ERROR >>>  {}'.format(e))\n",
    "                        pass\n",
    "                    break\n",
    "                elif user_input == 'no' or user_input == 'n':\n",
    "                    print(\"Pippa!\")\n",
    "                    data_to_save['risp']=0\n",
    "                    data_to_save['dt']=dt\n",
    "                    body = list(data_to_save.values())\n",
    "                    try:\n",
    "                        out_data.append_row(body, table_range=\"A1:D1\")\n",
    "                    except Exception as e:\n",
    "                        print('ERROR >>>  {}'.format(e))\n",
    "                        pass\n",
    "                    break\n",
    "                else:\n",
    "                    print(\"risposta non valida\")\n",
    "                    continue\n",
    "        print(\"precedenti risultati: \", dr[dr.rnd==rnd].risp.values)\n",
    "        print(\"elapsed: {:0.1f} minuti\".format(dt))\n",
    "        input(\"\\nPress Enter per la nuova domanda...\")\n",
    "except KeyboardInterrupt:\n",
    "    pass"
   ]
  },
  {
   "cell_type": "markdown",
   "id": "c62bee68-009b-48e2-8620-6e963271081b",
   "metadata": {},
   "source": [
    "video soluzioni inn caso in dubbi: https://www.youtube.com/@pnautica"
   ]
  }
 ],
 "metadata": {
  "kernelspec": {
   "display_name": "Python 3",
   "language": "python",
   "name": "python3"
  },
  "language_info": {
   "codemirror_mode": {
    "name": "ipython",
    "version": 3
   },
   "file_extension": ".py",
   "mimetype": "text/x-python",
   "name": "python",
   "nbconvert_exporter": "python",
   "pygments_lexer": "ipython3",
   "version": "3.6.8"
  }
 },
 "nbformat": 4,
 "nbformat_minor": 5
}
