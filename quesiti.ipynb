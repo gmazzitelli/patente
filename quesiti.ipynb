{
  "cells": [
    {
      "cell_type": "markdown",
      "source": [
        "**Quesiti**: risponedere alla domande poste dal script.\n",
        "\n",
        "il tempo della risposta e' calcolato in base a qundo si chiede di controllare i risultati\n",
        "\n",
        "ricordarsi di caricare il file .google_credentials.json prima di eseguire lo script"
      ],
      "metadata": {
        "id": "wICd1vy12BGP"
      },
      "id": "wICd1vy12BGP"
    },
    {
      "cell_type": "code",
      "execution_count": 5,
      "id": "cc156b54-92f5-49bc-a125-c17a7a53b7b9",
      "metadata": {
        "cellView": "form",
        "id": "cc156b54-92f5-49bc-a125-c17a7a53b7b9",
        "outputId": "65ec4929-ee0a-42cb-eb0e-b1eb037a8d28",
        "colab": {
          "base_uri": "https://localhost:8080/"
        }
      },
      "outputs": [
        {
          "output_type": "stream",
          "name": "stdout",
          "text": [
            "corretti: 1 sbagliati 0\n",
            "\n",
            "Id esercizio: 130 svolto: 0 --------------------------------------\n",
            "\n",
            "Carta 42D\n",
            "5.8.1 - 5 Il M/Y “Aldebaran” si trova in  navigazione con prora vera Pv = 000° e velocità\n",
            "propulsiva Vp = 7 kn.\n",
            "Dopo un’ora di navigazione determina la propria posizione osservando la costa\n",
            "effettuando un punto nave A con due rilevamenti simultanei: faro di “Punta timone –tavolara” con Rilp = 118° a sinistra; faro “ Isola di Figarolo”con Rilp = 77° a sinistra.\n",
            "Avendo calcolato il punto stimato B, allo stesso orario, di coordinate geografiche: Lat. 40°57,5’ N – Long. 009°46,1’ E, considerato che esistono elementi perturbatori del moto, determinare la velocità della corrente Vc.\n",
            "\n",
            "Press Enter per la risposta... (salta per saltare)salta\n",
            "precedenti risultati:  []\n",
            "elapsed: 0.0 minuti\n"
          ]
        }
      ],
      "source": [
        "# @title\n",
        "import pandas as pd\n",
        "import numpy as np\n",
        "import matplotlib.pyplot as plt\n",
        "import json\n",
        "import time\n",
        "import gspread\n",
        "from google.oauth2 import service_account\n",
        "import json\n",
        "\n",
        "credentials = service_account.Credentials.from_service_account_file('.google_credentials.json')\n",
        "scope = ['https://spreadsheets.google.com/feeds']\n",
        "creds_scope = credentials.with_scopes(scope)\n",
        "client = gspread.authorize(creds_scope)\n",
        "key = '1SUHVbmaA8sUDcHGr0fjH7p_3QNj7F5tWXBtukodj3aw'\n",
        "def panda_from_gspreadsheet(key, sheet_name='Sheet1', header=0):\n",
        "    url = 'https://docs.google.com/spreadsheets/d/{key}/gviz/tq?tqx=out:csv&sheet={sheet_name}&headers=1'.format(\n",
        "      key=key, sheet_name=sheet_name.replace(' ', '%20'))\n",
        "    return pd.read_csv(url, header=header)\n",
        "def risultati(key):\n",
        "    dr = panda_from_gspreadsheet(key, sheet_name='DB')\n",
        "    return dr\n",
        "\n",
        "d5 =  panda_from_gspreadsheet(key, sheet_name='5D')\n",
        "d42 =  panda_from_gspreadsheet(key, sheet_name='42D')\n",
        "dr = risultati(key)\n",
        "df = pd.concat([d5, d42],ignore_index=True)\n",
        "out_data = client.open_by_key(key).worksheet(\"DB\")\n",
        "data_to_save = {}\n",
        "end = time.time()\n",
        "dt = 0\n",
        "try:\n",
        "    while True:\n",
        "        dr = risultati(key)\n",
        "        while True:\n",
        "            rnd = round(np.random.uniform()*(len(df)-1))\n",
        "            ntry = len(dr[dr.rnd.values == rnd])\n",
        "            nfail = len(dr[(dr.risp.values == 0) & (dr.rnd.values == rnd)])\n",
        "            if ntry>0 and nfail==0:\n",
        "                print()\n",
        "                # print('new extaction', rnd, ntry, nfail, ntry-nfail)\n",
        "            else:\n",
        "                start = time.time()\n",
        "                break\n",
        "        print('corretti:', len((dr[dr.risp==1])),'sbagliati',  len((dr[dr.risp==0])))\n",
        "        id = df.loc[:, ['PROGRESSIVO DOMANDA']].iloc[[rnd]].values[0][0]\n",
        "        domanda = df.loc[:, ['TESTO DELLA DOMANDA']].iloc[[rnd]].values[0][0]\n",
        "        print(\"\\nId esercizio: \"+str(rnd+1)+\" svolto: \"+str(len(dr[dr.rnd==rnd].risp.values))+\" --------------------------------------\\n\")\n",
        "\n",
        "        if rnd<108:\n",
        "            print('Carta 5D')\n",
        "        else:\n",
        "            print('Carta 42D')\n",
        "        print(id, domanda)\n",
        "\n",
        "        user_input = input(\"\\nPress Enter per la risposta... (salta per saltare)\").lower()\n",
        "        if user_input != 'salta':\n",
        "            risposta = df.loc[:, ['RISPOSTA 1']].iloc[[rnd]].values[0][0]\n",
        "            print(id, risposta)\n",
        "\n",
        "            data_to_save['rnd']=rnd\n",
        "            data_to_save['time']=int(time.time())\n",
        "            end = time.time()\n",
        "            dt = (end-start)/60\n",
        "\n",
        "            while True:\n",
        "                user_input = input(\"coretto? 'SI' or 'NO': \").lower()\n",
        "                if user_input == 'si' or user_input == 's':\n",
        "                    print(\"Bravo!\")\n",
        "                    data_to_save['risp']=1\n",
        "                    data_to_save['dt']=dt\n",
        "                    body = list(data_to_save.values())\n",
        "                    try:\n",
        "                        out_data.append_row(body, table_range=\"A1:D1\")\n",
        "                    except Exception as e:\n",
        "                        print('ERROR >>>  {}'.format(e))\n",
        "                        pass\n",
        "                    break\n",
        "                elif user_input == 'no' or user_input == 'n':\n",
        "                    print(\"Pippa!\")\n",
        "                    data_to_save['risp']=0\n",
        "                    data_to_save['dt']=dt\n",
        "                    body = list(data_to_save.values())\n",
        "                    try:\n",
        "                        out_data.append_row(body, table_range=\"A1:D1\")\n",
        "                    except Exception as e:\n",
        "                        print('ERROR >>>  {}'.format(e))\n",
        "                        pass\n",
        "                    break\n",
        "                else:\n",
        "                    print(\"risposta non valida\")\n",
        "                    continue\n",
        "        print(\"precedenti risultati: \", dr[dr.rnd==rnd].risp.values)\n",
        "        print(\"elapsed: {:0.1f} minuti\".format(dt))\n",
        "        input(\"\\nPress Enter per la nuova domanda...\")\n",
        "except KeyboardInterrupt:\n",
        "    pass"
      ]
    },
    {
      "cell_type": "markdown",
      "id": "c62bee68-009b-48e2-8620-6e963271081b",
      "metadata": {
        "id": "c62bee68-009b-48e2-8620-6e963271081b"
      },
      "source": [
        "video soluzioni inn caso in dubbi: https://www.youtube.com/@pnautica"
      ]
    }
  ],
  "metadata": {
    "kernelspec": {
      "display_name": "Python 3",
      "language": "python",
      "name": "python3"
    },
    "language_info": {
      "codemirror_mode": {
        "name": "ipython",
        "version": 3
      },
      "file_extension": ".py",
      "mimetype": "text/x-python",
      "name": "python",
      "nbconvert_exporter": "python",
      "pygments_lexer": "ipython3",
      "version": "3.6.8"
    },
    "colab": {
      "provenance": []
    }
  },
  "nbformat": 4,
  "nbformat_minor": 5
}