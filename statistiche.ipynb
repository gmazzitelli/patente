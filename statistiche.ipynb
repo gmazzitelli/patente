{
 "cells": [
  {
   "cell_type": "code",
   "execution_count": 6,
   "id": "11ba1233-e143-4c60-bb6a-c62ed9c656ca",
   "metadata": {},
   "outputs": [],
   "source": [
    "import pandas as pd\n",
    "import numpy as np\n",
    "import matplotlib.pyplot as plt\n",
    "import datetime\n",
    "import time\n",
    "def panda_from_gspreadsheet(key, sheet_name='Sheet1', header=0):\n",
    "    url = 'https://docs.google.com/spreadsheets/d/{key}/gviz/tq?tqx=out:csv&sheet={sheet_name}&headers=1'.format(\n",
    "      key=key, sheet_name=sheet_name.replace(' ', '%20'))\n",
    "    return pd.read_csv(url, header=header)\n",
    "\n",
    "def risultati(key):\n",
    "    dr = panda_from_gspreadsheet(key, sheet_name='DB')\n",
    "    return dr\n",
    "\n",
    "key = '1SUHVbmaA8sUDcHGr0fjH7p_3QNj7F5tWXBtukodj3aw'\n",
    "d5 =  panda_from_gspreadsheet(key, sheet_name='5D')\n",
    "d42 =  panda_from_gspreadsheet(key, sheet_name='42D')\n",
    "dr = risultati(key)\n",
    "df = pd.concat([d5, d42],ignore_index=True)"
   ]
  },
  {
   "cell_type": "code",
   "execution_count": 10,
   "id": "16ba9e71-2d13-474a-a56e-b2d00fcdf9c6",
   "metadata": {},
   "outputs": [
    {
     "data": {
      "image/png": "[encoded data removed]",
      "text/plain": [
       "<Figure size 432x288 with 4 Axes>"
      ]
     },
     "metadata": {
      "needs_background": "light"
     },
     "output_type": "display_data"
    },
    {
     "name": "stdout",
     "output_type": "stream",
     "text": [
      "rate successo totale: 78.61635220125787 % su: 318\n",
      "prove fatte corrette 250 prove fatte 318 totale prove: 135\n"
     ]
    }
   ],
   "source": [
    "# statistiche di successo/fallimento\n",
    "dr=risultati(key)\n",
    "dr.hist()\n",
    "plt.show()\n",
    "print(\"rate successo totale:\", 100*len(dr[dr.risp==1])/len(dr),\"% su:\", len(dr))\n",
    "tn = datetime.datetime.fromtimestamp(time.time()).strftime('%Y-%m-%d 00:00:00')\n",
    "t = time.mktime(time.strptime(tn, '%Y-%m-%d 00:00:00'))\n",
    "if len(dr[(dr.time>=t)])>0:\n",
    "    print(\"rate successo giornaliero:\", 100*len(dr[(dr.risp==1) & (dr.time>=t)])/len(dr[(dr.time>=t)]),\"%, su:\", len(dr[(dr.time>=t)]))\n",
    "print(\"prove fatte corrette\", len(dr[dr.risp==1]), \"prove fatte\", len(dr), \"totale prove:\", len(df))"
   ]
  },
  {
   "cell_type": "code",
   "execution_count": 15,
   "id": "f11f7c93-f200-4c06-bac4-9d4d6255ccd1",
   "metadata": {},
   "outputs": [
    {
     "name": "stdout",
     "output_type": "stream",
     "text": [
      "  arrivalDate   rnd          time  risp          dt  bad    success\n",
      "0  2024-02-11  1986   58053697353    20    0.000000   14  58.823529\n",
      "1  2024-02-18   843   20498623442     8    0.000000    4  66.666667\n",
      "2  2024-02-25  1934   46137226253    15    0.000000   12  55.555556\n",
      "3  2024-03-03  1620   42731143534    20    0.000000    5  80.000000\n",
      "4  2024-03-10  2459   58135265305    30    0.000000    4  88.235294\n",
      "5  2024-03-17  2058   47893416405    21  100.279044    7  75.000000\n",
      "6  2024-03-24  2817   78713555769    40  379.932261    6  86.956522\n",
      "7  2024-03-31  3325   82160794769    38  395.001778   10  79.166667\n",
      "8  2024-04-07  4181  109583587878    58  571.841652    6  90.625000\n"
     ]
    },
    {
     "data": {
      "image/png": "[encoded data removed]",
      "text/plain": [
       "<Figure size 432x288 with 1 Axes>"
      ]
     },
     "metadata": {
      "needs_background": "light"
     },
     "output_type": "display_data"
    }
   ],
   "source": [
    "# statistiche settimanli\n",
    "def swap(risp):\n",
    "    return int(not(risp))\n",
    "dr['bad']= dr.risp.apply(swap)\n",
    "dr['arrivalDate'] = pd.to_datetime(dr.time, unit='s')\n",
    "df1 = dr.resample('W', on='arrivalDate').sum().dropna().reset_index()\n",
    "df1['success']=(df1['risp']/(df1['risp']+df1['bad'])*100)\n",
    "print (df1)\n",
    "df1.plot.bar(x='arrivalDate', y='success')\n",
    "\n",
    "plt.show()"
   ]
  },
  {
   "cell_type": "code",
   "execution_count": 20,
   "id": "8f8b3880-f7be-45e1-b371-b434938ecaef",
   "metadata": {},
   "outputs": [
    {
     "name": "stdout",
     "output_type": "stream",
     "text": [
      "update done 317/318\n"
     ]
    }
   ],
   "source": [
    "#\n",
    "# questo pezzo di codice puoi servire per mettere nelle colonne \"try\" di 5D e 42D \n",
    "# le prove corrette \"1\" e quelle fallite \"0\" nell'ordine temporale\n",
    "#\n",
    "import pandas as pd\n",
    "import gspread\n",
    "from google.oauth2 import service_account\n",
    "import json\n",
    "credentials = service_account.Credentials.from_service_account_file(\n",
    "    '.google_credentials.json')\n",
    "scope = ['https://spreadsheets.google.com/feeds']\n",
    "creds_scope = credentials.with_scopes(scope)\n",
    "client = gspread.authorize(creds_scope)\n",
    "\n",
    "sheet1 = client.open_by_key(key).worksheet(\"5D\")\n",
    "sheet2 = client.open_by_key(key).worksheet(\"42D\")\n",
    "sheet3 = client.open_by_key(key).worksheet(\"DB\")\n",
    "# piu' light caricare il file senza autenticazione (come sopra)\n",
    "# d5=pd.DataFrame.from_dict(sheet1.get_all_records())\n",
    "# d45=pd.DataFrame.from_dict(sheet2.get_all_records())\n",
    "# df = pd.concat([d5, d45],ignore_index=True)\n",
    "# dr=pd.DataFrame.from_dict(sheet3.get_all_records())\n",
    "dr=risultati(key)\n",
    "dr['arrivalDate'] = pd.to_datetime(dr.time, unit='s')\n",
    "\n",
    "drs=dr.sort_values(['rnd', 'arrivalDate'])\n",
    "rnds = -1\n",
    "step = 0 \n",
    "provefatte = len(dr)-1\n",
    "for i, rnd in enumerate(drs.rnd):\n",
    "    if rnd == rnds:\n",
    "        step = step+1\n",
    "    else:\n",
    "        step = 0\n",
    "    rnds = rnd\n",
    "    col = 7+step\n",
    "    ntry = len(drs[drs.rnd.values == rnd])\n",
    "    nfail = len(drs[(drs.risp.values == 0) & (drs.rnd.values == rnd)])\n",
    "    if rnd<len(d5):\n",
    "        row = rnd+2\n",
    "        # print(i,rnd, \"--\", row, col, drs.risp.values[i], \"--\", ntry, nfail, ntry-nfail)\n",
    "        sheet1.update_cell(row, col, str(drs.risp.values[i]))\n",
    "    else:\n",
    "        row = rnd-len(d5)+2\n",
    "        # print(i,rnd, \"--\", row, col, drs.risp[i], \"--\", ntry, nfail, ntry-nfail)\n",
    "        sheet2.update_cell(row, col, str(drs.risp.values[i]))\n",
    "    print('updating db {:d}/{:d}'.format(i, provefatte), end=\"\\r\")\n",
    "    time.sleep(1) # necessario per i limiti di google sulle big query\n",
    "print('update done')"
   ]
  },
  {
   "cell_type": "code",
   "execution_count": null,
   "id": "a930d175-f45a-4708-a6bc-0b42b7874356",
   "metadata": {},
   "outputs": [],
   "source": []
  }
 ],
 "metadata": {
  "kernelspec": {
   "display_name": "Python 3",
   "language": "python",
   "name": "python3"
  },
  "language_info": {
   "codemirror_mode": {
    "name": "ipython",
    "version": 3
   },
   "file_extension": ".py",
   "mimetype": "text/x-python",
   "name": "python",
   "nbconvert_exporter": "python",
   "pygments_lexer": "ipython3",
   "version": "3.6.8"
  }
 },
 "nbformat": 4,
 "nbformat_minor": 5
}
